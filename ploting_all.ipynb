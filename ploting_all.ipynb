{
 "cells": [
  {
   "cell_type": "code",
   "execution_count": 1,
   "metadata": {},
   "outputs": [],
   "source": [
    "import matplotlib\n",
    "import matplotlib.font_manager as fm\n",
    "import matplotlib.pyplot as plt\n",
    "\n",
    "from modules.ploting import plot_all"
   ]
  },
  {
   "cell_type": "code",
   "execution_count": 2,
   "metadata": {},
   "outputs": [],
   "source": [
    "fm.fontManager.addfont(\"modules/cmunss.ttf\")\n",
    "plt.rcParams['font.family'] = 'CMU Sans Serif'\n",
    "plt.rcParams['svg.fonttype'] = 'none'\n",
    "\n",
    "font = {'family' : 'CMU Sans Serif',\n",
    "        'size'   : 11}\n",
    "\n",
    "matplotlib.rc('font', **font)"
   ]
  },
  {
   "cell_type": "code",
   "execution_count": 3,
   "metadata": {},
   "outputs": [],
   "source": [
    "model_names = [\n",
    "    \"model-name\",\n",
    "    ]\n",
    "\n",
    "dims = [\n",
    "    \"familiarité\",\n",
    "    \"agréabilité\",\n",
    "    \"légitimité\",\n",
    "    \"utilité\"\n",
    "    ]\n",
    "\n",
    "plot_all(model_names, dims)\n",
    "plot_all(model_names, dims, normalize='pred')"
   ]
  }
 ],
 "metadata": {
  "kernelspec": {
   "display_name": "base",
   "language": "python",
   "name": "python3"
  },
  "language_info": {
   "codemirror_mode": {
    "name": "ipython",
    "version": 3
   },
   "file_extension": ".py",
   "mimetype": "text/x-python",
   "name": "python",
   "nbconvert_exporter": "python",
   "pygments_lexer": "ipython3",
   "version": "3.9.13"
  }
 },
 "nbformat": 4,
 "nbformat_minor": 2
}
